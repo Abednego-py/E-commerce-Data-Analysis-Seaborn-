{
 "cells": [
  {
   "cell_type": "markdown",
   "metadata": {},
   "source": [
    "## E-COMMERCE SALES ANALYSIS"
   ]
  },
  {
   "cell_type": "markdown",
   "metadata": {},
   "source": [
    "###  OBJECTIVE\n",
    "\n",
    "The objective of this data analysis project is to gain valuable insights from the ecommerce sales data in order to optimize business strategies and drive revenue growth. By examining the sales data, we aim to identify patterns, trends, and factors influencing sales performance, customer behavior, and product popularity. The analysis will enable us to make data-driven decisions and develop actionable recommendations for improving the ecommerce platform's sales performance and overall customer satisfaction."
   ]
  },
  {
   "cell_type": "markdown",
   "metadata": {
    "tags": []
   },
   "source": [
    "### QUESTIONS\n",
    "\n",
    "1.  What are the best performing segments and products (by total amount sold)?\n",
    "2. What is the sales growth over time?\n",
    "3. Contribution towards profitability by product. (if other datasets are related)** remove\n",
    "4. The most popular product category by state\n",
    "5. Total number of cancelled and returned orders.\n",
    "6. Highest amount of orders by city **remove\n",
    "7. States with the highest orders.\n",
    "8. Are there any seasonal or temporal trends that significantly affect sales patterns?\n",
    "9. Which product categories or specific products are top performers in terms of sales volume and revenue?\n",
    "10. Can we identify customer segments based on purchasing behavior and preferences?\n",
    "11. Which regions have the highest sales volume? Are there any specific geographic areas with potential for growth?\n",
    "12. Are there any notable differences in sales performance between B2B and B2C customers?\n",
    "13. What is the distribution of order statuses? Are there any bottlenecks or areas for improvement in the order fulfillment process?\n",
    "14. Are there any notable differences in sales performance based on the courier status or the method of shipping?\n",
    "15. How does the fulfillment method (fulfilled-by) impact customer satisfaction and repeat purchases?\n",
    "16. How does the order quantity (Qty) affect the average order value and revenue?\n",
    "17. Is there a correlation between promotional activities (promotion-ids) and sales performance? Which promotions have the highest impact on sales?"
   ]
  },
  {
   "cell_type": "markdown",
   "metadata": {},
   "source": [
    "### IMPORTING LIBRARIES"
   ]
  },
  {
   "cell_type": "code",
   "execution_count": 1,
   "metadata": {},
   "outputs": [],
   "source": [
    "import pandas as pd\n",
    "import numpy as np\n",
    "import matplotlib.pyplot as plt\n",
    "import seaborn as sb\n",
    "\n",
    "import difflib\n",
    "import warnings\n",
    "warnings.filterwarnings('ignore')\n",
    "\n",
    "%matplotlib inline"
   ]
  },
  {
   "cell_type": "markdown",
   "metadata": {},
   "source": [
    "### Data Exploration"
   ]
  },
  {
   "cell_type": "code",
   "execution_count": 2,
   "metadata": {},
   "outputs": [
    {
     "data": {
      "text/html": [
       "<div>\n",
       "<style scoped>\n",
       "    .dataframe tbody tr th:only-of-type {\n",
       "        vertical-align: middle;\n",
       "    }\n",
       "\n",
       "    .dataframe tbody tr th {\n",
       "        vertical-align: top;\n",
       "    }\n",
       "\n",
       "    .dataframe thead th {\n",
       "        text-align: right;\n",
       "    }\n",
       "</style>\n",
       "<table border=\"1\" class=\"dataframe\">\n",
       "  <thead>\n",
       "    <tr style=\"text-align: right;\">\n",
       "      <th></th>\n",
       "      <th>index</th>\n",
       "      <th>Order ID</th>\n",
       "      <th>Date</th>\n",
       "      <th>Status</th>\n",
       "      <th>Fulfilment</th>\n",
       "      <th>Sales Channel</th>\n",
       "      <th>ship-service-level</th>\n",
       "      <th>Style</th>\n",
       "      <th>SKU</th>\n",
       "      <th>Category</th>\n",
       "      <th>...</th>\n",
       "      <th>currency</th>\n",
       "      <th>Amount</th>\n",
       "      <th>ship-city</th>\n",
       "      <th>ship-state</th>\n",
       "      <th>ship-postal-code</th>\n",
       "      <th>ship-country</th>\n",
       "      <th>promotion-ids</th>\n",
       "      <th>B2B</th>\n",
       "      <th>fulfilled-by</th>\n",
       "      <th>Unnamed: 22</th>\n",
       "    </tr>\n",
       "  </thead>\n",
       "  <tbody>\n",
       "    <tr>\n",
       "      <th>0</th>\n",
       "      <td>0</td>\n",
       "      <td>405-8078784-5731545</td>\n",
       "      <td>04-30-22</td>\n",
       "      <td>Cancelled</td>\n",
       "      <td>Merchant</td>\n",
       "      <td>Amazon.in</td>\n",
       "      <td>Standard</td>\n",
       "      <td>SET389</td>\n",
       "      <td>SET389-KR-NP-S</td>\n",
       "      <td>Set</td>\n",
       "      <td>...</td>\n",
       "      <td>INR</td>\n",
       "      <td>647.62</td>\n",
       "      <td>MUMBAI</td>\n",
       "      <td>MAHARASHTRA</td>\n",
       "      <td>400081.0</td>\n",
       "      <td>IN</td>\n",
       "      <td>NaN</td>\n",
       "      <td>False</td>\n",
       "      <td>Easy Ship</td>\n",
       "      <td>NaN</td>\n",
       "    </tr>\n",
       "    <tr>\n",
       "      <th>1</th>\n",
       "      <td>1</td>\n",
       "      <td>171-9198151-1101146</td>\n",
       "      <td>04-30-22</td>\n",
       "      <td>Shipped - Delivered to Buyer</td>\n",
       "      <td>Merchant</td>\n",
       "      <td>Amazon.in</td>\n",
       "      <td>Standard</td>\n",
       "      <td>JNE3781</td>\n",
       "      <td>JNE3781-KR-XXXL</td>\n",
       "      <td>kurta</td>\n",
       "      <td>...</td>\n",
       "      <td>INR</td>\n",
       "      <td>406.00</td>\n",
       "      <td>BENGALURU</td>\n",
       "      <td>KARNATAKA</td>\n",
       "      <td>560085.0</td>\n",
       "      <td>IN</td>\n",
       "      <td>Amazon PLCC Free-Financing Universal Merchant ...</td>\n",
       "      <td>False</td>\n",
       "      <td>Easy Ship</td>\n",
       "      <td>NaN</td>\n",
       "    </tr>\n",
       "    <tr>\n",
       "      <th>2</th>\n",
       "      <td>2</td>\n",
       "      <td>404-0687676-7273146</td>\n",
       "      <td>04-30-22</td>\n",
       "      <td>Shipped</td>\n",
       "      <td>Amazon</td>\n",
       "      <td>Amazon.in</td>\n",
       "      <td>Expedited</td>\n",
       "      <td>JNE3371</td>\n",
       "      <td>JNE3371-KR-XL</td>\n",
       "      <td>kurta</td>\n",
       "      <td>...</td>\n",
       "      <td>INR</td>\n",
       "      <td>329.00</td>\n",
       "      <td>NAVI MUMBAI</td>\n",
       "      <td>MAHARASHTRA</td>\n",
       "      <td>410210.0</td>\n",
       "      <td>IN</td>\n",
       "      <td>IN Core Free Shipping 2015/04/08 23-48-5-108</td>\n",
       "      <td>True</td>\n",
       "      <td>NaN</td>\n",
       "      <td>NaN</td>\n",
       "    </tr>\n",
       "    <tr>\n",
       "      <th>3</th>\n",
       "      <td>3</td>\n",
       "      <td>403-9615377-8133951</td>\n",
       "      <td>04-30-22</td>\n",
       "      <td>Cancelled</td>\n",
       "      <td>Merchant</td>\n",
       "      <td>Amazon.in</td>\n",
       "      <td>Standard</td>\n",
       "      <td>J0341</td>\n",
       "      <td>J0341-DR-L</td>\n",
       "      <td>Western Dress</td>\n",
       "      <td>...</td>\n",
       "      <td>INR</td>\n",
       "      <td>753.33</td>\n",
       "      <td>PUDUCHERRY</td>\n",
       "      <td>PUDUCHERRY</td>\n",
       "      <td>605008.0</td>\n",
       "      <td>IN</td>\n",
       "      <td>NaN</td>\n",
       "      <td>False</td>\n",
       "      <td>Easy Ship</td>\n",
       "      <td>NaN</td>\n",
       "    </tr>\n",
       "    <tr>\n",
       "      <th>4</th>\n",
       "      <td>4</td>\n",
       "      <td>407-1069790-7240320</td>\n",
       "      <td>04-30-22</td>\n",
       "      <td>Shipped</td>\n",
       "      <td>Amazon</td>\n",
       "      <td>Amazon.in</td>\n",
       "      <td>Expedited</td>\n",
       "      <td>JNE3671</td>\n",
       "      <td>JNE3671-TU-XXXL</td>\n",
       "      <td>Top</td>\n",
       "      <td>...</td>\n",
       "      <td>INR</td>\n",
       "      <td>574.00</td>\n",
       "      <td>CHENNAI</td>\n",
       "      <td>TAMIL NADU</td>\n",
       "      <td>600073.0</td>\n",
       "      <td>IN</td>\n",
       "      <td>NaN</td>\n",
       "      <td>False</td>\n",
       "      <td>NaN</td>\n",
       "      <td>NaN</td>\n",
       "    </tr>\n",
       "  </tbody>\n",
       "</table>\n",
       "<p>5 rows × 24 columns</p>\n",
       "</div>"
      ],
      "text/plain": [
       "   index             Order ID      Date                        Status  \\\n",
       "0      0  405-8078784-5731545  04-30-22                     Cancelled   \n",
       "1      1  171-9198151-1101146  04-30-22  Shipped - Delivered to Buyer   \n",
       "2      2  404-0687676-7273146  04-30-22                       Shipped   \n",
       "3      3  403-9615377-8133951  04-30-22                     Cancelled   \n",
       "4      4  407-1069790-7240320  04-30-22                       Shipped   \n",
       "\n",
       "  Fulfilment Sales Channel  ship-service-level    Style              SKU  \\\n",
       "0   Merchant      Amazon.in           Standard   SET389   SET389-KR-NP-S   \n",
       "1   Merchant      Amazon.in           Standard  JNE3781  JNE3781-KR-XXXL   \n",
       "2     Amazon      Amazon.in          Expedited  JNE3371    JNE3371-KR-XL   \n",
       "3   Merchant      Amazon.in           Standard    J0341       J0341-DR-L   \n",
       "4     Amazon      Amazon.in          Expedited  JNE3671  JNE3671-TU-XXXL   \n",
       "\n",
       "        Category  ... currency  Amount    ship-city   ship-state  \\\n",
       "0            Set  ...      INR  647.62       MUMBAI  MAHARASHTRA   \n",
       "1          kurta  ...      INR  406.00    BENGALURU    KARNATAKA   \n",
       "2          kurta  ...      INR  329.00  NAVI MUMBAI  MAHARASHTRA   \n",
       "3  Western Dress  ...      INR  753.33   PUDUCHERRY   PUDUCHERRY   \n",
       "4            Top  ...      INR  574.00      CHENNAI   TAMIL NADU   \n",
       "\n",
       "  ship-postal-code  ship-country  \\\n",
       "0         400081.0            IN   \n",
       "1         560085.0            IN   \n",
       "2         410210.0            IN   \n",
       "3         605008.0            IN   \n",
       "4         600073.0            IN   \n",
       "\n",
       "                                       promotion-ids    B2B  fulfilled-by  \\\n",
       "0                                                NaN  False     Easy Ship   \n",
       "1  Amazon PLCC Free-Financing Universal Merchant ...  False     Easy Ship   \n",
       "2       IN Core Free Shipping 2015/04/08 23-48-5-108   True           NaN   \n",
       "3                                                NaN  False     Easy Ship   \n",
       "4                                                NaN  False           NaN   \n",
       "\n",
       "  Unnamed: 22  \n",
       "0         NaN  \n",
       "1         NaN  \n",
       "2         NaN  \n",
       "3         NaN  \n",
       "4         NaN  \n",
       "\n",
       "[5 rows x 24 columns]"
      ]
     },
     "execution_count": 2,
     "metadata": {},
     "output_type": "execute_result"
    }
   ],
   "source": [
    "df= pd.read_csv('Amazon Sale Report.csv')\n",
    "df.head()"
   ]
  },
  {
   "cell_type": "code",
   "execution_count": 3,
   "metadata": {},
   "outputs": [
    {
     "data": {
      "text/plain": [
       "(128975, 24)"
      ]
     },
     "execution_count": 3,
     "metadata": {},
     "output_type": "execute_result"
    }
   ],
   "source": [
    "df.shape"
   ]
  },
  {
   "cell_type": "code",
   "execution_count": 4,
   "metadata": {},
   "outputs": [
    {
     "name": "stdout",
     "output_type": "stream",
     "text": [
      "<class 'pandas.core.frame.DataFrame'>\n",
      "RangeIndex: 128975 entries, 0 to 128974\n",
      "Data columns (total 24 columns):\n",
      " #   Column              Non-Null Count   Dtype  \n",
      "---  ------              --------------   -----  \n",
      " 0   index               128975 non-null  int64  \n",
      " 1   Order ID            128975 non-null  object \n",
      " 2   Date                128975 non-null  object \n",
      " 3   Status              128975 non-null  object \n",
      " 4   Fulfilment          128975 non-null  object \n",
      " 5   Sales Channel       128975 non-null  object \n",
      " 6   ship-service-level  128975 non-null  object \n",
      " 7   Style               128975 non-null  object \n",
      " 8   SKU                 128975 non-null  object \n",
      " 9   Category            128975 non-null  object \n",
      " 10  Size                128975 non-null  object \n",
      " 11  ASIN                128975 non-null  object \n",
      " 12  Courier Status      122103 non-null  object \n",
      " 13  Qty                 128975 non-null  int64  \n",
      " 14  currency            121180 non-null  object \n",
      " 15  Amount              121180 non-null  float64\n",
      " 16  ship-city           128942 non-null  object \n",
      " 17  ship-state          128942 non-null  object \n",
      " 18  ship-postal-code    128942 non-null  float64\n",
      " 19  ship-country        128942 non-null  object \n",
      " 20  promotion-ids       79822 non-null   object \n",
      " 21  B2B                 128975 non-null  bool   \n",
      " 22  fulfilled-by        39277 non-null   object \n",
      " 23  Unnamed: 22         79925 non-null   object \n",
      "dtypes: bool(1), float64(2), int64(2), object(19)\n",
      "memory usage: 22.8+ MB\n"
     ]
    }
   ],
   "source": [
    "df.info()"
   ]
  },
  {
   "cell_type": "code",
   "execution_count": 5,
   "metadata": {},
   "outputs": [
    {
     "data": {
      "text/html": [
       "<div>\n",
       "<style scoped>\n",
       "    .dataframe tbody tr th:only-of-type {\n",
       "        vertical-align: middle;\n",
       "    }\n",
       "\n",
       "    .dataframe tbody tr th {\n",
       "        vertical-align: top;\n",
       "    }\n",
       "\n",
       "    .dataframe thead th {\n",
       "        text-align: right;\n",
       "    }\n",
       "</style>\n",
       "<table border=\"1\" class=\"dataframe\">\n",
       "  <thead>\n",
       "    <tr style=\"text-align: right;\">\n",
       "      <th></th>\n",
       "      <th>index</th>\n",
       "      <th>Qty</th>\n",
       "      <th>Amount</th>\n",
       "      <th>ship-postal-code</th>\n",
       "    </tr>\n",
       "  </thead>\n",
       "  <tbody>\n",
       "    <tr>\n",
       "      <th>count</th>\n",
       "      <td>128975.000000</td>\n",
       "      <td>128975.000000</td>\n",
       "      <td>121180.000000</td>\n",
       "      <td>128942.000000</td>\n",
       "    </tr>\n",
       "    <tr>\n",
       "      <th>mean</th>\n",
       "      <td>64487.000000</td>\n",
       "      <td>0.904431</td>\n",
       "      <td>648.561465</td>\n",
       "      <td>463966.236509</td>\n",
       "    </tr>\n",
       "    <tr>\n",
       "      <th>std</th>\n",
       "      <td>37232.019822</td>\n",
       "      <td>0.313354</td>\n",
       "      <td>281.211687</td>\n",
       "      <td>191476.764941</td>\n",
       "    </tr>\n",
       "    <tr>\n",
       "      <th>min</th>\n",
       "      <td>0.000000</td>\n",
       "      <td>0.000000</td>\n",
       "      <td>0.000000</td>\n",
       "      <td>110001.000000</td>\n",
       "    </tr>\n",
       "    <tr>\n",
       "      <th>25%</th>\n",
       "      <td>32243.500000</td>\n",
       "      <td>1.000000</td>\n",
       "      <td>449.000000</td>\n",
       "      <td>382421.000000</td>\n",
       "    </tr>\n",
       "    <tr>\n",
       "      <th>50%</th>\n",
       "      <td>64487.000000</td>\n",
       "      <td>1.000000</td>\n",
       "      <td>605.000000</td>\n",
       "      <td>500033.000000</td>\n",
       "    </tr>\n",
       "    <tr>\n",
       "      <th>75%</th>\n",
       "      <td>96730.500000</td>\n",
       "      <td>1.000000</td>\n",
       "      <td>788.000000</td>\n",
       "      <td>600024.000000</td>\n",
       "    </tr>\n",
       "    <tr>\n",
       "      <th>max</th>\n",
       "      <td>128974.000000</td>\n",
       "      <td>15.000000</td>\n",
       "      <td>5584.000000</td>\n",
       "      <td>989898.000000</td>\n",
       "    </tr>\n",
       "  </tbody>\n",
       "</table>\n",
       "</div>"
      ],
      "text/plain": [
       "               index            Qty         Amount  ship-postal-code\n",
       "count  128975.000000  128975.000000  121180.000000     128942.000000\n",
       "mean    64487.000000       0.904431     648.561465     463966.236509\n",
       "std     37232.019822       0.313354     281.211687     191476.764941\n",
       "min         0.000000       0.000000       0.000000     110001.000000\n",
       "25%     32243.500000       1.000000     449.000000     382421.000000\n",
       "50%     64487.000000       1.000000     605.000000     500033.000000\n",
       "75%     96730.500000       1.000000     788.000000     600024.000000\n",
       "max    128974.000000      15.000000    5584.000000     989898.000000"
      ]
     },
     "execution_count": 5,
     "metadata": {},
     "output_type": "execute_result"
    }
   ],
   "source": [
    "df.describe()"
   ]
  },
  {
   "cell_type": "markdown",
   "metadata": {},
   "source": [
    "### DATA CLEANING"
   ]
  },
  {
   "cell_type": "code",
   "execution_count": 6,
   "metadata": {},
   "outputs": [],
   "source": [
    "#change date to datetime \n",
    "df.Date = df.Date.astype('datetime64[ns]')"
   ]
  },
  {
   "cell_type": "code",
   "execution_count": 7,
   "metadata": {},
   "outputs": [
    {
     "data": {
      "text/plain": [
       "fulfilled-by          69.546811\n",
       "promotion-ids         38.110487\n",
       "Unnamed: 22           38.030626\n",
       "Amount                 6.043807\n",
       "currency               6.043807\n",
       "Courier Status         5.328164\n",
       "ship-country           0.025586\n",
       "ship-postal-code       0.025586\n",
       "ship-state             0.025586\n",
       "ship-city              0.025586\n",
       "ship-service-level     0.000000\n",
       "Order ID               0.000000\n",
       "Date                   0.000000\n",
       "Status                 0.000000\n",
       "Fulfilment             0.000000\n",
       "Sales Channel          0.000000\n",
       "ASIN                   0.000000\n",
       "Style                  0.000000\n",
       "SKU                    0.000000\n",
       "Category               0.000000\n",
       "Size                   0.000000\n",
       "Qty                    0.000000\n",
       "B2B                    0.000000\n",
       "index                  0.000000\n",
       "dtype: float64"
      ]
     },
     "execution_count": 7,
     "metadata": {},
     "output_type": "execute_result"
    }
   ],
   "source": [
    "((df.isna().sum()/len(df))*100).sort_values(ascending = False)"
   ]
  },
  {
   "cell_type": "code",
   "execution_count": 8,
   "metadata": {},
   "outputs": [
    {
     "data": {
      "text/plain": [
       "index                     0\n",
       "Order ID                  0\n",
       "Date                      0\n",
       "Status                    0\n",
       "Fulfilment                0\n",
       "Sales Channel             0\n",
       "ship-service-level        0\n",
       "Style                     0\n",
       "SKU                       0\n",
       "Category                  0\n",
       "Size                      0\n",
       "ASIN                      0\n",
       "Courier Status         6872\n",
       "Qty                       0\n",
       "currency               7795\n",
       "Amount                 7795\n",
       "ship-city                33\n",
       "ship-state               33\n",
       "ship-postal-code         33\n",
       "ship-country             33\n",
       "promotion-ids         49153\n",
       "B2B                       0\n",
       "fulfilled-by          89698\n",
       "Unnamed: 22           49050\n",
       "dtype: int64"
      ]
     },
     "execution_count": 8,
     "metadata": {},
     "output_type": "execute_result"
    }
   ],
   "source": [
    "df.isna().sum()"
   ]
  },
  {
   "cell_type": "markdown",
   "metadata": {},
   "source": [
    "From the above results, there are 10 columns with null values, with one column having more than 50% of it's rows being null(empty). So we need to spend some time cleaning"
   ]
  },
  {
   "cell_type": "code",
   "execution_count": 9,
   "metadata": {},
   "outputs": [
    {
     "data": {
      "text/plain": [
       "index                 128975\n",
       "Order ID              120378\n",
       "Date                      91\n",
       "Status                    13\n",
       "Fulfilment                 2\n",
       "Sales Channel              2\n",
       "ship-service-level         2\n",
       "Style                   1377\n",
       "SKU                     7195\n",
       "Category                   9\n",
       "Size                      11\n",
       "ASIN                    7190\n",
       "Courier Status             3\n",
       "Qty                       10\n",
       "currency                   1\n",
       "Amount                  1410\n",
       "ship-city               8955\n",
       "ship-state                69\n",
       "ship-postal-code        9459\n",
       "ship-country               1\n",
       "promotion-ids           5787\n",
       "B2B                        2\n",
       "fulfilled-by               1\n",
       "Unnamed: 22                1\n",
       "dtype: int64"
      ]
     },
     "execution_count": 9,
     "metadata": {},
     "output_type": "execute_result"
    }
   ],
   "source": [
    "df.nunique()"
   ]
  },
  {
   "cell_type": "code",
   "execution_count": 10,
   "metadata": {},
   "outputs": [],
   "source": [
    "df.drop(columns= ['index', 'Unnamed: 22', 'currency'], inplace=True)"
   ]
  },
  {
   "cell_type": "markdown",
   "metadata": {},
   "source": [
    "After checking for uniqueness in the data, it was oberved that the index, order id, and two other columns needed to be dropped. They contained either to much unique values or too few of them and they are needed for the analysis"
   ]
  },
  {
   "cell_type": "code",
   "execution_count": 11,
   "metadata": {},
   "outputs": [],
   "source": [
    "#changing amt to zero where qty is 0\n",
    "df.loc[df['Qty']==0, 'Amount'] = 0"
   ]
  },
  {
   "cell_type": "code",
   "execution_count": 12,
   "metadata": {},
   "outputs": [
    {
     "data": {
      "text/plain": [
       "array([nan, 'Shipped', 'Cancelled', 'Unshipped'], dtype=object)"
      ]
     },
     "execution_count": 12,
     "metadata": {},
     "output_type": "execute_result"
    }
   ],
   "source": [
    "df['Courier Status'].unique()"
   ]
  },
  {
   "cell_type": "code",
   "execution_count": 13,
   "metadata": {},
   "outputs": [
    {
     "data": {
      "text/plain": [
       "33"
      ]
     },
     "execution_count": 13,
     "metadata": {},
     "output_type": "execute_result"
    }
   ],
   "source": [
    "df['ship-state'].isna().sum()"
   ]
  },
  {
   "cell_type": "code",
   "execution_count": 14,
   "metadata": {},
   "outputs": [
    {
     "data": {
      "text/plain": [
       "33"
      ]
     },
     "execution_count": 14,
     "metadata": {},
     "output_type": "execute_result"
    }
   ],
   "source": [
    "df['ship-city'].isna().sum()"
   ]
  },
  {
   "cell_type": "code",
   "execution_count": 15,
   "metadata": {},
   "outputs": [
    {
     "data": {
      "text/plain": [
       "IN    128942\n",
       "Name: ship-country, dtype: int64"
      ]
     },
     "execution_count": 15,
     "metadata": {},
     "output_type": "execute_result"
    }
   ],
   "source": [
    "df['ship-country'].value_counts()"
   ]
  },
  {
   "cell_type": "code",
   "execution_count": 16,
   "metadata": {},
   "outputs": [],
   "source": [
    "#filling the null values\n",
    "df['fulfilled-by'] = df['fulfilled-by'].fillna('Unknown')\n",
    "df['promotion-ids'] = df['promotion-ids'].fillna('Unknown')\n",
    "df['Amount'] = df['Amount'].fillna(0)\n",
    "df['Courier Status'] = df['Courier Status'].fillna('Cancelled')\n",
    "df['ship-city'] = df['ship-city'].fillna(method = 'ffill')\n",
    "df['ship-country'] = df['ship-country'].fillna(method = 'ffill')\n",
    "df['ship-state'] = df['ship-state'].fillna(method = 'ffill')\n",
    "df['ship-postal-code'] = df['ship-postal-code'].fillna(method = 'ffill')"
   ]
  },
  {
   "cell_type": "code",
   "execution_count": 17,
   "metadata": {},
   "outputs": [],
   "source": [
    "df['Revenue'] = df.Qty * df.Amount"
   ]
  },
  {
   "cell_type": "code",
   "execution_count": 18,
   "metadata": {},
   "outputs": [
    {
     "data": {
      "text/plain": [
       "Order ID              0\n",
       "Date                  0\n",
       "Status                0\n",
       "Fulfilment            0\n",
       "Sales Channel         0\n",
       "ship-service-level    0\n",
       "Style                 0\n",
       "SKU                   0\n",
       "Category              0\n",
       "Size                  0\n",
       "ASIN                  0\n",
       "Courier Status        0\n",
       "Qty                   0\n",
       "Amount                0\n",
       "ship-city             0\n",
       "ship-state            0\n",
       "ship-postal-code      0\n",
       "ship-country          0\n",
       "promotion-ids         0\n",
       "B2B                   0\n",
       "fulfilled-by          0\n",
       "Revenue               0\n",
       "dtype: int64"
      ]
     },
     "execution_count": 18,
     "metadata": {},
     "output_type": "execute_result"
    }
   ],
   "source": [
    "df.isna().sum()"
   ]
  },
  {
   "cell_type": "code",
   "execution_count": 19,
   "metadata": {},
   "outputs": [
    {
     "data": {
      "text/plain": [
       "array(['MAHARASHTRA', 'KARNATAKA', 'PUDUCHERRY', 'TAMIL NADU',\n",
       "       'UTTAR PRADESH', 'CHANDIGARH', 'TELANGANA', 'ANDHRA PRADESH',\n",
       "       'RAJASTHAN', 'DELHI', 'HARYANA', 'ASSAM', 'JHARKHAND',\n",
       "       'CHHATTISGARH', 'ODISHA', 'KERALA', 'MADHYA PRADESH',\n",
       "       'WEST BENGAL', 'NAGALAND', 'Gujarat', 'UTTARAKHAND', 'BIHAR',\n",
       "       'JAMMU & KASHMIR', 'PUNJAB', 'HIMACHAL PRADESH',\n",
       "       'ARUNACHAL PRADESH', 'MANIPUR', 'Goa', 'MEGHALAYA', 'GOA',\n",
       "       'TRIPURA', 'LADAKH', 'DADRA AND NAGAR', 'SIKKIM', 'Delhi',\n",
       "       'ANDAMAN & NICOBAR ', 'Punjab', 'Rajshthan', 'Manipur',\n",
       "       'rajasthan', 'Odisha', 'NL', 'Bihar', 'MIZORAM', 'punjab',\n",
       "       'New Delhi', 'Rajasthan', 'Punjab/Mohali/Zirakpur', 'Puducherry',\n",
       "       'delhi', 'RJ', 'Chandigarh', 'orissa', 'LAKSHADWEEP', 'goa', 'PB',\n",
       "       'APO', 'Arunachal Pradesh', 'AR', 'Pondicherry', 'Sikkim',\n",
       "       'Arunachal pradesh', 'Nagaland', 'bihar', 'Mizoram', 'rajsthan',\n",
       "       'Orissa', 'Rajsthan', 'Meghalaya'], dtype=object)"
      ]
     },
     "execution_count": 19,
     "metadata": {},
     "output_type": "execute_result"
    }
   ],
   "source": [
    "df['ship-state'].unique()"
   ]
  },
  {
   "cell_type": "markdown",
   "metadata": {},
   "source": [
    "Due to the inconsistency in the data for some categorical columns, we need to further clean."
   ]
  },
  {
   "cell_type": "markdown",
   "metadata": {},
   "source": [
    "##### CLEANING CATEGORICAL VALUES"
   ]
  },
  {
   "cell_type": "code",
   "execution_count": 41,
   "metadata": {},
   "outputs": [],
   "source": [
    "cat_col = [i for i in df.select_dtypes(include=['object', 'category'])]\n",
    "num_col = [i for i in df.select_dtypes(include=['int64', 'float64'])]"
   ]
  },
  {
   "cell_type": "code",
   "execution_count": 21,
   "metadata": {},
   "outputs": [],
   "source": [
    "df[cat_col] = df[cat_col].apply(lambda x: x.str.lower())"
   ]
  },
  {
   "cell_type": "code",
   "execution_count": 22,
   "metadata": {},
   "outputs": [
    {
     "name": "stdout",
     "output_type": "stream",
     "text": [
      "Total Number of unique values in the Order ID Column : 120378\n",
      "\n",
      "\n",
      "Total Number of unique values in the Status Column : 13\n",
      "\n",
      "\n",
      "Total Number of unique values in the Fulfilment Column : 2\n",
      "\n",
      "\n",
      "Total Number of unique values in the Sales Channel  Column : 2\n",
      "\n",
      "\n",
      "Total Number of unique values in the ship-service-level Column : 2\n",
      "\n",
      "\n",
      "Total Number of unique values in the Style Column : 1377\n",
      "\n",
      "\n",
      "Total Number of unique values in the SKU Column : 7195\n",
      "\n",
      "\n",
      "Total Number of unique values in the Category Column : 9\n",
      "\n",
      "\n",
      "Total Number of unique values in the Size Column : 11\n",
      "\n",
      "\n",
      "Total Number of unique values in the ASIN Column : 7190\n",
      "\n",
      "\n",
      "Total Number of unique values in the Courier Status Column : 3\n",
      "\n",
      "\n",
      "Total Number of unique values in the ship-city Column : 7297\n",
      "\n",
      "\n",
      "Total Number of unique values in the ship-state Column : 47\n",
      "\n",
      "\n",
      "Total Number of unique values in the ship-country Column : 1\n",
      "\n",
      "\n",
      "Total Number of unique values in the promotion-ids Column : 5788\n",
      "\n",
      "\n",
      "Total Number of unique values in the fulfilled-by Column : 2\n",
      "\n",
      "\n"
     ]
    }
   ],
   "source": [
    "for col in cat_col:\n",
    "    print(\"Total Number of unique values in the {} Column : {}\". format(col, len(df[col].unique().tolist())))\n",
    "    print('\\n')"
   ]
  },
  {
   "cell_type": "code",
   "execution_count": 23,
   "metadata": {},
   "outputs": [
    {
     "name": "stdout",
     "output_type": "stream",
     "text": [
      "set of values in the Sales Channel : {'amazon.in', 'non-amazon'}\n",
      "\n",
      "\n",
      "set of values in the Status: {'pending', 'shipped - out for delivery', 'shipped - delivered to buyer', 'shipped - picked up', 'shipped - returning to seller', 'shipped - rejected by buyer', 'shipping', 'shipped - lost in transit', 'shipped', 'shipped - returned to seller', 'shipped - damaged', 'cancelled', 'pending - waiting for pick up'}\n",
      "\n",
      "\n",
      "set of values in the Category: {'set', 'western dress', 'bottom', 'blouse', 'top', 'saree', 'kurta', 'dupatta', 'ethnic dress'}\n",
      "\n",
      "\n",
      "set of values in the ship-country: {'in'}\n",
      "\n",
      "\n",
      "set of values in the fulfilled-by: {'easy ship', 'unknown'}\n",
      "\n",
      "\n",
      "set of values in the ship-state: {'andhra pradesh', 'mizoram', 'dadra and nagar', 'meghalaya', 'haryana', 'sikkim', 'chandigarh', 'tripura', 'west bengal', 'andaman & nicobar ', 'apo', 'uttarakhand', 'ar', 'orissa', 'assam', 'chhattisgarh', 'gujarat', 'nl', 'punjab/mohali/zirakpur', 'rajasthan', 'nagaland', 'jammu & kashmir', 'uttar pradesh', 'punjab', 'rajshthan', 'rajsthan', 'odisha', 'ladakh', 'lakshadweep', 'rj', 'madhya pradesh', 'jharkhand', 'karnataka', 'telangana', 'tamil nadu', 'maharashtra', 'goa', 'pondicherry', 'bihar', 'new delhi', 'pb', 'puducherry', 'kerala', 'himachal pradesh', 'delhi', 'arunachal pradesh', 'manipur'}\n",
      "\n",
      "\n",
      "set of values in the Fulfilment: {'merchant', 'amazon'}\n",
      "\n",
      "\n"
     ]
    }
   ],
   "source": [
    "for col in ['Sales Channel ', 'Status', 'Category', 'ship-country', 'fulfilled-by', 'ship-state', 'Fulfilment']:\n",
    "    print(f\"set of values in the {col}: {set(df[col])}\")\n",
    "    print('\\n')"
   ]
  },
  {
   "cell_type": "code",
   "execution_count": 24,
   "metadata": {},
   "outputs": [],
   "source": [
    "# Define the set of correct values of ship-state\n",
    "correct_values = {'madhya pradesh', 'sikkim', 'uttarakhand', 'chhattisgarh', 'karnataka', 'dadra and nagar',\n",
    "                  'tamil nadu', 'haryana', 'ar', 'west bengal', 'nl', 'telangana', 'bihar', 'meghalaya',\n",
    "                  'new delhi', 'punjab/mohali/zirakpur', 'uttar pradesh', 'andhra pradesh', 'tripura', 'rj',\n",
    "                  'chandigarh', 'assam', 'ladakh', 'pondicherry', 'rajasthan', 'kerala', 'pb', 'nagaland',\n",
    "                  'gujarat', 'rajasthan', 'goa', 'lakshadweep', 'jharkhand', 'mizoram', 'odisha', 'puducherry',\n",
    "                  'apo', 'jammu & kashmir', 'arunachal pradesh', 'delhi', 'rajsthan', 'maharashtra',\n",
    "                  'himachal pradesh', 'manipur', 'andaman & nicobar', 'punjab'}"
   ]
  },
  {
   "cell_type": "code",
   "execution_count": 25,
   "metadata": {},
   "outputs": [],
   "source": [
    "# Function to clean up the ship-state values\n",
    "def clean_state(state):\n",
    "    state = state.lower().strip()  # Convert to lowercase and remove leading/trailing spaces\n",
    "    if state in correct_values:\n",
    "        return state\n",
    "    else:\n",
    "        # Perform fuzzy matching to find the closest correct value\n",
    "        closest_match = difflib.get_close_matches(state, correct_values, n=1)\n",
    "        if closest_match:\n",
    "            return closest_match[0]\n",
    "        else:\n",
    "            return None"
   ]
  },
  {
   "cell_type": "code",
   "execution_count": 26,
   "metadata": {},
   "outputs": [
    {
     "name": "stdout",
     "output_type": "stream",
     "text": [
      "['maharashtra' 'karnataka' 'puducherry' 'tamil nadu' 'uttar pradesh'\n",
      " 'chandigarh' 'telangana' 'andhra pradesh' 'rajasthan' 'delhi' 'haryana'\n",
      " 'assam' 'jharkhand' 'chhattisgarh' 'odisha' 'kerala' 'madhya pradesh'\n",
      " 'west bengal' 'nagaland' 'gujarat' 'uttarakhand' 'bihar'\n",
      " 'jammu & kashmir' 'punjab' 'himachal pradesh' 'arunachal pradesh'\n",
      " 'manipur' 'goa' 'meghalaya' 'tripura' 'ladakh' 'dadra and nagar' 'sikkim'\n",
      " 'andaman & nicobar' 'rajsthan' 'nl' 'mizoram' 'new delhi'\n",
      " 'punjab/mohali/zirakpur' 'rj' 'lakshadweep' 'pb' 'apo' 'ar' 'pondicherry']\n"
     ]
    }
   ],
   "source": [
    "# Apply the clean_state function to the 'ship-state' column\n",
    "df['ship-state'] = df['ship-state'].apply(clean_state)\n",
    "\n",
    "# Remove rows with None values (unmatched states)\n",
    "df = df.dropna(subset=['ship-state'])\n",
    "\n",
    "# Print the cleaned unique values in the 'ship-state' column\n",
    "print(df['ship-state'].unique())\n"
   ]
  },
  {
   "cell_type": "code",
   "execution_count": 27,
   "metadata": {},
   "outputs": [
    {
     "data": {
      "text/plain": [
       "Order ID              120378\n",
       "Date                      91\n",
       "Status                    13\n",
       "Fulfilment                 2\n",
       "Sales Channel              2\n",
       "ship-service-level         2\n",
       "Style                   1377\n",
       "SKU                     7195\n",
       "Category                   9\n",
       "Size                      11\n",
       "ASIN                    7190\n",
       "Courier Status             3\n",
       "Qty                       10\n",
       "Amount                   867\n",
       "ship-city               7297\n",
       "ship-state                45\n",
       "ship-postal-code        9459\n",
       "ship-country               1\n",
       "promotion-ids           5788\n",
       "B2B                        2\n",
       "fulfilled-by               2\n",
       "Revenue                  925\n",
       "dtype: int64"
      ]
     },
     "execution_count": 27,
     "metadata": {},
     "output_type": "execute_result"
    }
   ],
   "source": [
    "df.nunique()"
   ]
  },
  {
   "cell_type": "markdown",
   "metadata": {},
   "source": [
    "The dimension in ship city field is high and there are so many inconsistencies so we drop it."
   ]
  },
  {
   "cell_type": "code",
   "execution_count": 28,
   "metadata": {},
   "outputs": [],
   "source": [
    "df.drop('ship-city', axis=1, inplace=True)"
   ]
  },
  {
   "cell_type": "code",
   "execution_count": 29,
   "metadata": {},
   "outputs": [
    {
     "data": {
      "text/plain": [
       "(128975, 21)"
      ]
     },
     "execution_count": 29,
     "metadata": {},
     "output_type": "execute_result"
    }
   ],
   "source": [
    "df.shape"
   ]
  },
  {
   "cell_type": "code",
   "execution_count": 30,
   "metadata": {},
   "outputs": [
    {
     "data": {
      "text/plain": [
       "6"
      ]
     },
     "execution_count": 30,
     "metadata": {},
     "output_type": "execute_result"
    }
   ],
   "source": [
    "df.duplicated().sum()"
   ]
  },
  {
   "cell_type": "code",
   "execution_count": 31,
   "metadata": {},
   "outputs": [],
   "source": [
    "df.drop_duplicates(inplace=True)"
   ]
  },
  {
   "cell_type": "code",
   "execution_count": 32,
   "metadata": {},
   "outputs": [
    {
     "data": {
      "text/plain": [
       "0"
      ]
     },
     "execution_count": 32,
     "metadata": {},
     "output_type": "execute_result"
    }
   ],
   "source": [
    "df.duplicated().sum()"
   ]
  },
  {
   "cell_type": "code",
   "execution_count": 33,
   "metadata": {},
   "outputs": [],
   "source": [
    "df['year'] = df['Date'].dt.year\n",
    "df['month'] = df['Date'].dt.month_name()\n",
    "df['day'] = df['Date'].dt.day_name()"
   ]
  },
  {
   "cell_type": "code",
   "execution_count": 34,
   "metadata": {},
   "outputs": [
    {
     "data": {
      "text/plain": [
       "(128969, 24)"
      ]
     },
     "execution_count": 34,
     "metadata": {},
     "output_type": "execute_result"
    }
   ],
   "source": [
    "df.shape"
   ]
  },
  {
   "cell_type": "markdown",
   "metadata": {},
   "source": [
    "### DATA EXPLORATION"
   ]
  },
  {
   "cell_type": "markdown",
   "metadata": {},
   "source": [
    "check for correlation"
   ]
  },
  {
   "cell_type": "code",
   "execution_count": 37,
   "metadata": {},
   "outputs": [
    {
     "data": {
      "text/plain": [
       "<AxesSubplot:>"
      ]
     },
     "execution_count": 37,
     "metadata": {},
     "output_type": "execute_result"
    },
    {
     "data": {
      "image/png": "[encoded data removed]",
      "text/plain": [
       "<Figure size 432x288 with 2 Axes>"
      ]
     },
     "metadata": {
      "needs_background": "light"
     },
     "output_type": "display_data"
    }
   ],
   "source": [
    "corr = df.corr()\n",
    "\n",
    "sb.heatmap(corr)"
   ]
  },
  {
   "cell_type": "markdown",
   "metadata": {},
   "source": [
    "stats summary of the numerical columns"
   ]
  },
  {
   "cell_type": "code",
   "execution_count": 43,
   "metadata": {},
   "outputs": [
    {
     "data": {
      "text/html": [
       "<div>\n",
       "<style scoped>\n",
       "    .dataframe tbody tr th:only-of-type {\n",
       "        vertical-align: middle;\n",
       "    }\n",
       "\n",
       "    .dataframe tbody tr th {\n",
       "        vertical-align: top;\n",
       "    }\n",
       "\n",
       "    .dataframe thead th {\n",
       "        text-align: right;\n",
       "    }\n",
       "</style>\n",
       "<table border=\"1\" class=\"dataframe\">\n",
       "  <thead>\n",
       "    <tr style=\"text-align: right;\">\n",
       "      <th></th>\n",
       "      <th>Qty</th>\n",
       "      <th>Amount</th>\n",
       "      <th>ship-postal-code</th>\n",
       "      <th>Revenue</th>\n",
       "      <th>year</th>\n",
       "    </tr>\n",
       "  </thead>\n",
       "  <tbody>\n",
       "    <tr>\n",
       "      <th>count</th>\n",
       "      <td>128969.00000</td>\n",
       "      <td>128969.000000</td>\n",
       "      <td>128969.000000</td>\n",
       "      <td>128969.000000</td>\n",
       "      <td>128969.0</td>\n",
       "    </tr>\n",
       "    <tr>\n",
       "      <th>mean</th>\n",
       "      <td>0.90445</td>\n",
       "      <td>584.635618</td>\n",
       "      <td>463968.016531</td>\n",
       "      <td>589.535245</td>\n",
       "      <td>2022.0</td>\n",
       "    </tr>\n",
       "    <tr>\n",
       "      <th>std</th>\n",
       "      <td>0.31333</td>\n",
       "      <td>331.595089</td>\n",
       "      <td>191475.224780</td>\n",
       "      <td>386.778622</td>\n",
       "      <td>0.0</td>\n",
       "    </tr>\n",
       "    <tr>\n",
       "      <th>min</th>\n",
       "      <td>0.00000</td>\n",
       "      <td>0.000000</td>\n",
       "      <td>110001.000000</td>\n",
       "      <td>0.000000</td>\n",
       "      <td>2022.0</td>\n",
       "    </tr>\n",
       "    <tr>\n",
       "      <th>25%</th>\n",
       "      <td>1.00000</td>\n",
       "      <td>399.000000</td>\n",
       "      <td>382421.000000</td>\n",
       "      <td>399.000000</td>\n",
       "      <td>2022.0</td>\n",
       "    </tr>\n",
       "    <tr>\n",
       "      <th>50%</th>\n",
       "      <td>1.00000</td>\n",
       "      <td>568.000000</td>\n",
       "      <td>500033.000000</td>\n",
       "      <td>568.000000</td>\n",
       "      <td>2022.0</td>\n",
       "    </tr>\n",
       "    <tr>\n",
       "      <th>75%</th>\n",
       "      <td>1.00000</td>\n",
       "      <td>771.000000</td>\n",
       "      <td>600024.000000</td>\n",
       "      <td>771.000000</td>\n",
       "      <td>2022.0</td>\n",
       "    </tr>\n",
       "    <tr>\n",
       "      <th>max</th>\n",
       "      <td>15.00000</td>\n",
       "      <td>5584.000000</td>\n",
       "      <td>989898.000000</td>\n",
       "      <td>44672.000000</td>\n",
       "      <td>2022.0</td>\n",
       "    </tr>\n",
       "  </tbody>\n",
       "</table>\n",
       "</div>"
      ],
      "text/plain": [
       "                Qty         Amount  ship-postal-code        Revenue      year\n",
       "count  128969.00000  128969.000000     128969.000000  128969.000000  128969.0\n",
       "mean        0.90445     584.635618     463968.016531     589.535245    2022.0\n",
       "std         0.31333     331.595089     191475.224780     386.778622       0.0\n",
       "min         0.00000       0.000000     110001.000000       0.000000    2022.0\n",
       "25%         1.00000     399.000000     382421.000000     399.000000    2022.0\n",
       "50%         1.00000     568.000000     500033.000000     568.000000    2022.0\n",
       "75%         1.00000     771.000000     600024.000000     771.000000    2022.0\n",
       "max        15.00000    5584.000000     989898.000000   44672.000000    2022.0"
      ]
     },
     "execution_count": 43,
     "metadata": {},
     "output_type": "execute_result"
    }
   ],
   "source": [
    "df[num_col].describe()"
   ]
  },
  {
   "cell_type": "code",
   "execution_count": 84,
   "metadata": {},
   "outputs": [],
   "source": [
    "# a subset of the data where amount is not zero\n",
    "df_ = df[df['Amount'] != 0]"
   ]
  },
  {
   "cell_type": "code",
   "execution_count": 85,
   "metadata": {},
   "outputs": [
    {
     "data": {
      "text/html": [
       "<div>\n",
       "<style scoped>\n",
       "    .dataframe tbody tr th:only-of-type {\n",
       "        vertical-align: middle;\n",
       "    }\n",
       "\n",
       "    .dataframe tbody tr th {\n",
       "        vertical-align: top;\n",
       "    }\n",
       "\n",
       "    .dataframe thead th {\n",
       "        text-align: right;\n",
       "    }\n",
       "</style>\n",
       "<table border=\"1\" class=\"dataframe\">\n",
       "  <thead>\n",
       "    <tr style=\"text-align: right;\">\n",
       "      <th></th>\n",
       "      <th>Qty</th>\n",
       "      <th>Amount</th>\n",
       "      <th>ship-postal-code</th>\n",
       "      <th>Revenue</th>\n",
       "      <th>year</th>\n",
       "    </tr>\n",
       "  </thead>\n",
       "  <tbody>\n",
       "    <tr>\n",
       "      <th>count</th>\n",
       "      <td>113698.000000</td>\n",
       "      <td>113698.000000</td>\n",
       "      <td>113698.000000</td>\n",
       "      <td>113698.000000</td>\n",
       "      <td>113698.0</td>\n",
       "    </tr>\n",
       "    <tr>\n",
       "      <th>mean</th>\n",
       "      <td>1.003852</td>\n",
       "      <td>663.159167</td>\n",
       "      <td>463890.283127</td>\n",
       "      <td>668.716873</td>\n",
       "      <td>2022.0</td>\n",
       "    </tr>\n",
       "    <tr>\n",
       "      <th>std</th>\n",
       "      <td>0.073386</td>\n",
       "      <td>269.536036</td>\n",
       "      <td>190894.904880</td>\n",
       "      <td>341.672477</td>\n",
       "      <td>0.0</td>\n",
       "    </tr>\n",
       "    <tr>\n",
       "      <th>min</th>\n",
       "      <td>1.000000</td>\n",
       "      <td>199.000000</td>\n",
       "      <td>110001.000000</td>\n",
       "      <td>199.000000</td>\n",
       "      <td>2022.0</td>\n",
       "    </tr>\n",
       "    <tr>\n",
       "      <th>25%</th>\n",
       "      <td>1.000000</td>\n",
       "      <td>459.000000</td>\n",
       "      <td>382480.000000</td>\n",
       "      <td>459.000000</td>\n",
       "      <td>2022.0</td>\n",
       "    </tr>\n",
       "    <tr>\n",
       "      <th>50%</th>\n",
       "      <td>1.000000</td>\n",
       "      <td>625.000000</td>\n",
       "      <td>500033.000000</td>\n",
       "      <td>625.000000</td>\n",
       "      <td>2022.0</td>\n",
       "    </tr>\n",
       "    <tr>\n",
       "      <th>75%</th>\n",
       "      <td>1.000000</td>\n",
       "      <td>788.000000</td>\n",
       "      <td>600019.000000</td>\n",
       "      <td>788.000000</td>\n",
       "      <td>2022.0</td>\n",
       "    </tr>\n",
       "    <tr>\n",
       "      <th>max</th>\n",
       "      <td>8.000000</td>\n",
       "      <td>5584.000000</td>\n",
       "      <td>855117.000000</td>\n",
       "      <td>44672.000000</td>\n",
       "      <td>2022.0</td>\n",
       "    </tr>\n",
       "  </tbody>\n",
       "</table>\n",
       "</div>"
      ],
      "text/plain": [
       "                 Qty         Amount  ship-postal-code        Revenue      year\n",
       "count  113698.000000  113698.000000     113698.000000  113698.000000  113698.0\n",
       "mean        1.003852     663.159167     463890.283127     668.716873    2022.0\n",
       "std         0.073386     269.536036     190894.904880     341.672477       0.0\n",
       "min         1.000000     199.000000     110001.000000     199.000000    2022.0\n",
       "25%         1.000000     459.000000     382480.000000     459.000000    2022.0\n",
       "50%         1.000000     625.000000     500033.000000     625.000000    2022.0\n",
       "75%         1.000000     788.000000     600019.000000     788.000000    2022.0\n",
       "max         8.000000    5584.000000     855117.000000   44672.000000    2022.0"
      ]
     },
     "execution_count": 85,
     "metadata": {},
     "output_type": "execute_result"
    }
   ],
   "source": [
    "df_.describe()"
   ]
  },
  {
   "cell_type": "code",
   "execution_count": 47,
   "metadata": {},
   "outputs": [
    {
     "data": {
      "text/plain": [
       "1     115777\n",
       "0      12804\n",
       "2        341\n",
       "3         32\n",
       "4          9\n",
       "5          2\n",
       "15         1\n",
       "13         1\n",
       "9          1\n",
       "8          1\n",
       "Name: Qty, dtype: int64"
      ]
     },
     "execution_count": 47,
     "metadata": {},
     "output_type": "execute_result"
    }
   ],
   "source": [
    "df['Qty'].value_counts()"
   ]
  },
  {
   "cell_type": "code",
   "execution_count": 44,
   "metadata": {},
   "outputs": [
    {
     "name": "stdout",
     "output_type": "stream",
     "text": [
      "<class 'pandas.core.frame.DataFrame'>\n",
      "Int64Index: 128969 entries, 0 to 128974\n",
      "Data columns (total 24 columns):\n",
      " #   Column              Non-Null Count   Dtype         \n",
      "---  ------              --------------   -----         \n",
      " 0   Order ID            128969 non-null  object        \n",
      " 1   Date                128969 non-null  datetime64[ns]\n",
      " 2   Status              128969 non-null  object        \n",
      " 3   Fulfilment          128969 non-null  object        \n",
      " 4   Sales Channel       128969 non-null  object        \n",
      " 5   ship-service-level  128969 non-null  object        \n",
      " 6   Style               128969 non-null  object        \n",
      " 7   SKU                 128969 non-null  object        \n",
      " 8   Category            128969 non-null  object        \n",
      " 9   Size                128969 non-null  object        \n",
      " 10  ASIN                128969 non-null  object        \n",
      " 11  Courier Status      128969 non-null  object        \n",
      " 12  Qty                 128969 non-null  int64         \n",
      " 13  Amount              128969 non-null  float64       \n",
      " 14  ship-state          128969 non-null  object        \n",
      " 15  ship-postal-code    128969 non-null  float64       \n",
      " 16  ship-country        128969 non-null  object        \n",
      " 17  promotion-ids       128969 non-null  object        \n",
      " 18  B2B                 128969 non-null  bool          \n",
      " 19  fulfilled-by        128969 non-null  object        \n",
      " 20  Revenue             128969 non-null  float64       \n",
      " 21  year                128969 non-null  int64         \n",
      " 22  month               128969 non-null  object        \n",
      " 23  day                 128969 non-null  object        \n",
      "dtypes: bool(1), datetime64[ns](1), float64(3), int64(2), object(17)\n",
      "memory usage: 23.7+ MB\n"
     ]
    }
   ],
   "source": [
    "df.info()"
   ]
  },
  {
   "cell_type": "markdown",
   "metadata": {},
   "source": [
    "Distribution for numerical columns"
   ]
  },
  {
   "cell_type": "code",
   "execution_count": 46,
   "metadata": {},
   "outputs": [
    {
     "data": {
      "image/png": "[encoded data removed]",
      "text/plain": [
       "<Figure size 432x288 with 1 Axes>"
      ]
     },
     "metadata": {
      "needs_background": "light"
     },
     "output_type": "display_data"
    },
    {
     "data": {
      "image/png": "[encoded data removed]",
      "text/plain": [
       "<Figure size 432x288 with 1 Axes>"
      ]
     },
     "metadata": {
      "needs_background": "light"
     },
     "output_type": "display_data"
    },
    {
     "data": {
      "image/png": "[encoded data removed]",
      "text/plain": [
       "<Figure size 432x288 with 1 Axes>"
      ]
     },
     "metadata": {
      "needs_background": "light"
     },
     "output_type": "display_data"
    },
    {
     "data": {
      "image/png": "[encoded data removed]",
      "text/plain": [
       "<Figure size 432x288 with 1 Axes>"
      ]
     },
     "metadata": {
      "needs_background": "light"
     },
     "output_type": "display_data"
    },
    {
     "data": {
      "image/png": "[encoded data removed]",
      "text/plain": [
       "<Figure size 432x288 with 1 Axes>"
      ]
     },
     "metadata": {
      "needs_background": "light"
     },
     "output_type": "display_data"
    }
   ],
   "source": [
    "for i in num_col:\n",
    "    plt.hist(df[i])\n",
    "    plt.title(f'Histogram plot of {i}')\n",
    "    plt.show()"
   ]
  },
  {
   "cell_type": "markdown",
   "metadata": {},
   "source": [
    "Box plot of numerical columns"
   ]
  },
  {
   "cell_type": "code",
   "execution_count": 86,
   "metadata": {},
   "outputs": [
    {
     "data": {
      "image/png": "[encoded data removed]",
      "text/plain": [
       "<Figure size 432x288 with 1 Axes>"
      ]
     },
     "metadata": {
      "needs_background": "light"
     },
     "output_type": "display_data"
    },
    {
     "data": {
      "image/png": "[encoded data removed]",
      "text/plain": [
       "<Figure size 432x288 with 1 Axes>"
      ]
     },
     "metadata": {
      "needs_background": "light"
     },
     "output_type": "display_data"
    },
    {
     "data": {
      "image/png": "[encoded data removed]",
      "text/plain": [
       "<Figure size 432x288 with 1 Axes>"
      ]
     },
     "metadata": {
      "needs_background": "light"
     },
     "output_type": "display_data"
    },
    {
     "data": {
      "image/png": "[encoded data removed]",
      "text/plain": [
       "<Figure size 432x288 with 1 Axes>"
      ]
     },
     "metadata": {
      "needs_background": "light"
     },
     "output_type": "display_data"
    },
    {
     "data": {
      "image/png": "[encoded data removed]",
      "text/plain": [
       "<Figure size 432x288 with 1 Axes>"
      ]
     },
     "metadata": {
      "needs_background": "light"
     },
     "output_type": "display_data"
    }
   ],
   "source": [
    "for i in num_col:\n",
    "    plt.boxplot(df[i])\n",
    "    plt.title(f'Box plot of {i}')\n",
    "    plt.show()"
   ]
  },
  {
   "cell_type": "markdown",
   "metadata": {},
   "source": [
    "Bar chart to visualize the count of the data for the categorical data"
   ]
  },
  {
   "cell_type": "code",
   "execution_count": 57,
   "metadata": {},
   "outputs": [
    {
     "data": {
      "text/plain": [
       "Text(0.5, 1.0, 'Count plot for the Status Column')"
      ]
     },
     "execution_count": 57,
     "metadata": {},
     "output_type": "execute_result"
    },
    {
     "data": {
      "image/png": "[encoded data removed]",
      "text/plain": [
       "<Figure size 1440x576 with 1 Axes>"
      ]
     },
     "metadata": {
      "needs_background": "light"
     },
     "output_type": "display_data"
    }
   ],
   "source": [
    "cat_col_ = ['Status', 'Fulfilment', 'Sales Channel ', 'Category', 'Size', 'ASIN','Courier Status', 'fulfilled-by', 'month','day']\n",
    "\n",
    "plt.figure(figsize=(20,8))\n",
    "sb.countplot(y='Status', data=df)\n",
    "plt.title('Count plot for the Status Column')"
   ]
  },
  {
   "cell_type": "code",
   "execution_count": 68,
   "metadata": {},
   "outputs": [
    {
     "data": {
      "text/plain": [
       "<AxesSubplot:title={'center':'Distribution of order fulfilment'}, ylabel='Order ID'>"
      ]
     },
     "execution_count": 68,
     "metadata": {},
     "output_type": "execute_result"
    },
    {
     "data": {
      "image/png": "[encoded data removed]",
      "text/plain": [
       "<Figure size 720x576 with 1 Axes>"
      ]
     },
     "metadata": {},
     "output_type": "display_data"
    }
   ],
   "source": [
    "plt.figure(figsize=(10,8))\n",
    "\n",
    "df.groupby('Fulfilment')['Order ID'].count() \\\n",
    ".plot.pie(\n",
    "autopct='%1.1f%%',\n",
    "    title='Distribution of order fulfilment'\n",
    ")"
   ]
  },
  {
   "cell_type": "code",
   "execution_count": 63,
   "metadata": {},
   "outputs": [
    {
     "data": {
      "image/png": "[encoded data removed]",
      "text/plain": [
       "<Figure size 2160x864 with 1 Axes>"
      ]
     },
     "metadata": {
      "needs_background": "light"
     },
     "output_type": "display_data"
    }
   ],
   "source": [
    "plt.figure(figsize=(30,12))\n",
    "ax = sb.countplot(y='Category', data=df)\n",
    "\n",
    "label_offset = 5\n",
    "label_fontsize = 8\n",
    "for p in ax.patches:\n",
    "    ax.annotate(format(p.get_width(), '.0f'), (p.get_width() + label_offset, p.get_y() + p.get_height() / 2),\n",
    "                ha='left', va='center', fontsize=label_fontsize)\n",
    "\n",
    "ax.set_title('Most sold Category')\n",
    "\n",
    "plt.show()"
   ]
  },
  {
   "cell_type": "code",
   "execution_count": 77,
   "metadata": {},
   "outputs": [
    {
     "data": {
      "image/png": "[encoded data removed]",
      "text/plain": [
       "<Figure size 720x432 with 1 Axes>"
      ]
     },
     "metadata": {
      "needs_background": "light"
     },
     "output_type": "display_data"
    }
   ],
   "source": [
    "plt.figure(figsize=(10,6))\n",
    "ax = sb.countplot(y='Sales Channel ', data=df)\n",
    "\n",
    "label_offset = 5\n",
    "label_fontsize = 8\n",
    "for p in ax.patches:\n",
    "    ax.annotate(format(p.get_width(), '.0f'), (p.get_width() + label_offset, p.get_y() + p.get_height() / 2),\n",
    "                ha='left', va='center', fontsize=label_fontsize)\n",
    "\n",
    "ax.set_title('Most Used Sales Channel')\n",
    "\n",
    "plt.show()"
   ]
  },
  {
   "cell_type": "code",
   "execution_count": 79,
   "metadata": {},
   "outputs": [
    {
     "data": {
      "image/png": "[encoded data removed]",
      "text/plain": [
       "<Figure size 720x432 with 1 Axes>"
      ]
     },
     "metadata": {
      "needs_background": "light"
     },
     "output_type": "display_data"
    }
   ],
   "source": [
    "plt.figure(figsize=(10,6))\n",
    "ax = sb.countplot(y='fulfilled-by', data=df)\n",
    "\n",
    "label_offset = 5\n",
    "label_fontsize = 8\n",
    "for p in ax.patches:\n",
    "    ax.annotate(format(p.get_width(), '.0f'), (p.get_width() + label_offset, p.get_y() + p.get_height() / 2),\n",
    "                ha='left', va='center', fontsize=label_fontsize)\n",
    "\n",
    "ax.set_title('Fulfilment Methods')\n",
    "\n",
    "plt.show()"
   ]
  },
  {
   "cell_type": "code",
   "execution_count": 82,
   "metadata": {},
   "outputs": [
    {
     "data": {
      "image/png": "[encoded data removed]",
      "text/plain": [
       "<Figure size 720x432 with 1 Axes>"
      ]
     },
     "metadata": {
      "needs_background": "light"
     },
     "output_type": "display_data"
    }
   ],
   "source": [
    "plt.figure(figsize=(10,6))\n",
    "ax = sb.countplot(y='Size', data=df)\n",
    "\n",
    "label_offset = 5\n",
    "label_fontsize = 8\n",
    "for p in ax.patches:\n",
    "    ax.annotate(format(p.get_width(), '.0f'), (p.get_width() + label_offset, p.get_y() + p.get_height() / 2),\n",
    "                ha='left', va='center', fontsize=label_fontsize)\n",
    "\n",
    "ax.set_title('Various Sizes of Products')\n",
    "\n",
    "plt.show()"
   ]
  },
  {
   "cell_type": "code",
   "execution_count": 83,
   "metadata": {},
   "outputs": [
    {
     "data": {
      "image/png": "[encoded data removed]",
      "text/plain": [
       "<Figure size 720x432 with 1 Axes>"
      ]
     },
     "metadata": {
      "needs_background": "light"
     },
     "output_type": "display_data"
    }
   ],
   "source": [
    "plt.figure(figsize=(10,6))\n",
    "ax = sb.countplot(y='month', data=df)\n",
    "\n",
    "label_offset = 5\n",
    "label_fontsize = 8\n",
    "for p in ax.patches:\n",
    "    ax.annotate(format(p.get_width(), '.0f'), (p.get_width() + label_offset, p.get_y() + p.get_height() / 2),\n",
    "                ha='left', va='center', fontsize=label_fontsize)\n",
    "\n",
    "ax.set_title('Months when orders were made')\n",
    "\n",
    "plt.show()"
   ]
  },
  {
   "cell_type": "markdown",
   "metadata": {},
   "source": [
    "#### Summary of  Data Exploration\n",
    "\n",
    "1. "
   ]
  },
  {
   "cell_type": "code",
   "execution_count": 81,
   "metadata": {},
   "outputs": [
    {
     "data": {
      "text/plain": [
       "<AxesSubplot:xlabel='Size', ylabel='Amount'>"
      ]
     },
     "execution_count": 81,
     "metadata": {},
     "output_type": "execute_result"
    },
    {
     "data": {
      "image/png": "[encoded data removed]",
      "text/plain": [
       "<Figure size 1440x360 with 1 Axes>"
      ]
     },
     "metadata": {
      "needs_background": "light"
     },
     "output_type": "display_data"
    }
   ],
   "source": [
    "fig, ax=plt.subplots(figsize=(20,5))\n",
    "sb.barplot(df['Size'],df['Amount'],hue=df['Category'])"
   ]
  },
  {
   "cell_type": "code",
   "execution_count": null,
   "metadata": {},
   "outputs": [],
   "source": []
  }
 ],
 "metadata": {
  "kernelspec": {
   "display_name": "Python 3",
   "language": "python",
   "name": "python3"
  },
  "language_info": {
   "codemirror_mode": {
    "name": "ipython",
    "version": 3
   },
   "file_extension": ".py",
   "mimetype": "text/x-python",
   "name": "python",
   "nbconvert_exporter": "python",
   "pygments_lexer": "ipython3",
   "version": "3.8.5"
  }
 },
 "nbformat": 4,
 "nbformat_minor": 5
}
